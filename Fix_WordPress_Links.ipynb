{
  "nbformat": 4,
  "nbformat_minor": 0,
  "metadata": {
    "colab": {
      "provenance": [],
      "collapsed_sections": [],
      "toc_visible": true,
      "include_colab_link": true
    },
    "kernelspec": {
      "name": "python3",
      "display_name": "Python 3"
    },
    "language_info": {
      "name": "python"
    }
  },
  "cells": [
    {
      "cell_type": "markdown",
      "metadata": {
        "id": "view-in-github",
        "colab_type": "text"
      },
      "source": [
        "<a href=\"https://colab.research.google.com/github/passivebook/FixWordPressLinks/blob/main/Fix_WordPress_Links.ipynb\" target=\"_parent\"><img src=\"https://colab.research.google.com/assets/colab-badge.svg\" alt=\"Open In Colab\"/></a>"
      ]
    },
    {
      "cell_type": "markdown",
      "source": [
        "https://drive.google.com/drive/folders/1T5JJmlDwdaEkAAbpH2VOn-TCeAuW8OKl"
      ],
      "metadata": {
        "id": "7D4qZJPTRxwO"
      }
    },
    {
      "cell_type": "code",
      "execution_count": 1,
      "metadata": {
        "colab": {
          "base_uri": "https://localhost:8080/"
        },
        "id": "zfpNZSrykqTe",
        "outputId": "fdac6ccc-355d-4b1c-def1-6d419b0f44bd"
      },
      "outputs": [
        {
          "output_type": "stream",
          "name": "stdout",
          "text": [
            "Mounted at /content/gdrive\n"
          ]
        }
      ],
      "source": [
        "import os\n",
        "import pandas as pd\n",
        "import re\n",
        "from bs4 import BeautifulSoup\n",
        "from google.colab import drive\n",
        "drive.mount(\"/content/gdrive\")"
      ]
    },
    {
      "cell_type": "markdown",
      "source": [
        "#### Put the path to the google drive folder after `/content/gdrive/My Drive/`\n",
        "\n"
      ],
      "metadata": {
        "id": "XqzPbBhE1Yec"
      }
    },
    {
      "cell_type": "code",
      "source": [
        "os.chdir(\"/content/gdrive/My Drive/Colab Notebooks/Fix WordPress Links\")"
      ],
      "metadata": {
        "id": "iWRPpN-YlD-U"
      },
      "execution_count": 2,
      "outputs": []
    },
    {
      "cell_type": "markdown",
      "source": [
        "#### Upload the post.txt file to Google Drive \n",
        "1. Create a `post.txt` file and paste the WordPress Post Code in it. \n",
        "2. Upload the post.txt file to path setup above. "
      ],
      "metadata": {
        "id": "TiIOl2Lq1yAJ"
      }
    },
    {
      "cell_type": "markdown",
      "source": [
        "### Check file post.txt exists in Drive by running the code below"
      ],
      "metadata": {
        "id": "RuzMxUGf2VwX"
      }
    },
    {
      "cell_type": "code",
      "source": [
        "! ls"
      ],
      "metadata": {
        "colab": {
          "base_uri": "https://localhost:8080/"
        },
        "id": "TdYhA7V7lN7T",
        "outputId": "9f30a73e-4ab4-471e-b1d4-0f415c20b185"
      },
      "execution_count": 3,
      "outputs": [
        {
          "output_type": "stream",
          "name": "stdout",
          "text": [
            "'Fix WordPress Links.ipynb'   input.txt   output.txt\n"
          ]
        }
      ]
    },
    {
      "cell_type": "markdown",
      "source": [
        "### File Name Uploaded"
      ],
      "metadata": {
        "id": "DQa_bn7r2kgn"
      }
    },
    {
      "cell_type": "code",
      "source": [
        "filename = 'input.txt'\n",
        "domain = 'passivebook.com'\n",
        "affiliate_link = 'passivebook.com/go'"
      ],
      "metadata": {
        "id": "72-LuirPqZoD"
      },
      "execution_count": 4,
      "outputs": []
    },
    {
      "cell_type": "code",
      "source": [
        "html_doc = \"\"\"\n",
        "<!-- wp:paragraph -->\n",
        "<p><a class=\"test\" href=\"https://passivebook.com/go/trello\"> Affiliate Link</a></p>\n",
        "<!-- /wp:paragraph -->\n",
        "\n",
        "<!-- wp:paragraph -->\n",
        "<p><a href=\"https://passivebook.com/calculators/blog-earning-calculator/\" class=\"test\">Internal Link </a></p>\n",
        "<!-- /wp:paragraph -->\n",
        "\n",
        "<!-- wp:paragraph -->\n",
        "<p><a href=\"https://google.com\">External Link</a></p>\n",
        "<!-- /wp:paragraph -->\n",
        "\n",
        "<!-- wp:paragraph -->\n",
        "<p><a href=\"#jumplink\">Jump Link</a></p>\n",
        "<!-- /wp:paragraph -->\n",
        "\n",
        "<!-- wp:paragraph -->\n",
        "<p><a href=\"https://passivebook.com/go/TRELLO.md\">Markdown</a></p>\n",
        "<!-- /wp:paragraph -->\n",
        "\"\"\"\n",
        "\n",
        "soup = BeautifulSoup(html_doc, 'html.parser')"
      ],
      "metadata": {
        "id": "LCSVWRCCCNmx"
      },
      "execution_count": 9,
      "outputs": []
    },
    {
      "cell_type": "code",
      "source": [
        "f = open(filename)\n",
        "content = f.read()\n",
        "#parse HTML\n",
        "soup = BeautifulSoup(content, 'html.parser')"
      ],
      "metadata": {
        "id": "o06x2urqyqnl"
      },
      "execution_count": null,
      "outputs": []
    },
    {
      "cell_type": "code",
      "source": [
        "# Operations on All Links\n",
        "for link in soup.find_all('a'):\n",
        "    # Remove .md Obsidian Markdown from links\n",
        "    link['href'] = link['href'].replace(\".md\", \"\")\n",
        "    # Check if link is not an anchor link\n",
        "    if \"#\" not in link['href']:\n",
        "      # Set All Links to Open in New Tab\n",
        "      link['target'] = '_blank'\n",
        "      # Remove Leading and Trailiing White Spaces\n",
        "      link.string = link.string.strip()\n",
        "\n",
        "# Internal Links\n",
        "for link in soup.find_all('a', href=re.compile(domain)):\n",
        "    # Convert all internal links to lower case\n",
        "    link['href'] = link['href'].lower()        \n",
        "    url = link['href']\n",
        "    # Add Trailing / to all links\n",
        "    if url[len(url)-1] != \"/\" and \"#\" not in link['href']:\n",
        "        link['href'] = url + \"/\"\n",
        "\n",
        "# Affiliate Links\n",
        "for link in soup.find_all('a', href=re.compile(affiliate_link)):\n",
        "    # Make Affiliate Links No Follow\n",
        "    link['rel'] = 'nofollow'\n",
        "\n",
        "# External Links\n",
        "#for link in soup.find_all('a', href=re.compile(\".*?:\\\\/\\\\/(?!\"+domain+\").*?\")):\n",
        "    #link['rel'] = link['rel'].remove('nofollow')\n",
        "    #link['rel'] = 'nofollow'\n",
        "\n",
        "print(soup)"
      ],
      "metadata": {
        "id": "bIVt0dKkn3_M",
        "colab": {
          "base_uri": "https://localhost:8080/"
        },
        "outputId": "786615c6-7c63-45dc-d5c7-4fa8ee55bfa9"
      },
      "execution_count": 11,
      "outputs": [
        {
          "output_type": "stream",
          "name": "stdout",
          "text": [
            "\n",
            "<!-- wp:paragraph -->\n",
            "<p><a class=\"test\" href=\"https://passivebook.com/go/trello/\" rel=\"nofollow\" target=\"_blank\">Affiliate Link</a></p>\n",
            "<!-- /wp:paragraph -->\n",
            "<!-- wp:paragraph -->\n",
            "<p><a class=\"test\" href=\"https://passivebook.com/calculators/blog-earning-calculator/\" target=\"_blank\">Internal Link</a></p>\n",
            "<!-- /wp:paragraph -->\n",
            "<!-- wp:paragraph -->\n",
            "<p><a href=\"https://google.com\" target=\"_blank\">External Link</a></p>\n",
            "<!-- /wp:paragraph -->\n",
            "<!-- wp:paragraph -->\n",
            "<p><a href=\"#jumplink\">Jump Link</a></p>\n",
            "<!-- /wp:paragraph -->\n",
            "<!-- wp:paragraph -->\n",
            "<p><a href=\"https://passivebook.com/go/trello/\" rel=\"nofollow\" target=\"_blank\">Markdown</a></p>\n",
            "<!-- /wp:paragraph -->\n",
            "\n"
          ]
        }
      ]
    },
    {
      "cell_type": "code",
      "source": [
        "with open(\"output.txt\", \"w\", encoding='utf-8') as file:\n",
        "    file.write(str(soup))"
      ],
      "metadata": {
        "id": "5EFMAH6qzoSr"
      },
      "execution_count": null,
      "outputs": []
    }
  ]
}