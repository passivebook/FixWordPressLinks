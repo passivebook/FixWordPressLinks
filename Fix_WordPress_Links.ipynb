{
  "nbformat": 4,
  "nbformat_minor": 0,
  "metadata": {
    "colab": {
      "provenance": [],
      "collapsed_sections": [],
      "toc_visible": true,
      "include_colab_link": true
    },
    "kernelspec": {
      "name": "python3",
      "display_name": "Python 3"
    },
    "language_info": {
      "name": "python"
    }
  },
  "cells": [
    {
      "cell_type": "markdown",
      "metadata": {
        "id": "view-in-github",
        "colab_type": "text"
      },
      "source": [
        "<a href=\"https://colab.research.google.com/github/passivebook/FixWordPressLinks/blob/main/Fix_WordPress_Links.ipynb\" target=\"_parent\"><img src=\"https://colab.research.google.com/assets/colab-badge.svg\" alt=\"Open In Colab\"/></a>"
      ]
    },
    {
      "cell_type": "markdown",
      "source": [
        "https://drive.google.com/drive/folders/1T5JJmlDwdaEkAAbpH2VOn-TCeAuW8OKl"
      ],
      "metadata": {
        "id": "7D4qZJPTRxwO"
      }
    },
    {
      "cell_type": "code",
      "execution_count": 13,
      "metadata": {
        "colab": {
          "base_uri": "https://localhost:8080/"
        },
        "id": "zfpNZSrykqTe",
        "outputId": "0636d810-5ad7-44ee-ce24-56cacdc81b49"
      },
      "outputs": [
        {
          "output_type": "stream",
          "name": "stdout",
          "text": [
            "Drive already mounted at /content/gdrive; to attempt to forcibly remount, call drive.mount(\"/content/gdrive\", force_remount=True).\n"
          ]
        }
      ],
      "source": [
        "import os\n",
        "import pandas as pd\n",
        "import re\n",
        "from bs4 import BeautifulSoup\n",
        "from google.colab import drive\n",
        "drive.mount(\"/content/gdrive\")"
      ]
    },
    {
      "cell_type": "markdown",
      "source": [
        "#### Put the path to the google drive folder after `/content/gdrive/My Drive/`\n",
        "\n"
      ],
      "metadata": {
        "id": "XqzPbBhE1Yec"
      }
    },
    {
      "cell_type": "code",
      "source": [
        "os.chdir(\"/content/gdrive/My Drive/Colab Notebooks/Fix WordPress Links\")"
      ],
      "metadata": {
        "id": "iWRPpN-YlD-U"
      },
      "execution_count": 14,
      "outputs": []
    },
    {
      "cell_type": "markdown",
      "source": [
        "#### Upload the post.txt file to Google Drive \n",
        "1. Create a `post.txt` file and paste the WordPress Post Code in it. \n",
        "2. Upload the post.txt file to path setup above. "
      ],
      "metadata": {
        "id": "TiIOl2Lq1yAJ"
      }
    },
    {
      "cell_type": "markdown",
      "source": [
        "### Check file post.txt exists in Drive by running the code below"
      ],
      "metadata": {
        "id": "RuzMxUGf2VwX"
      }
    },
    {
      "cell_type": "code",
      "source": [
        "! ls"
      ],
      "metadata": {
        "colab": {
          "base_uri": "https://localhost:8080/"
        },
        "id": "TdYhA7V7lN7T",
        "outputId": "648f6644-68dd-4151-cddb-4737ed1dbab6"
      },
      "execution_count": 15,
      "outputs": [
        {
          "output_type": "stream",
          "name": "stdout",
          "text": [
            "'Fix WordPress Links.ipynb'   input.txt   output.txt\n"
          ]
        }
      ]
    },
    {
      "cell_type": "markdown",
      "source": [
        "### File Name Uploaded"
      ],
      "metadata": {
        "id": "DQa_bn7r2kgn"
      }
    },
    {
      "cell_type": "code",
      "source": [
        "filename = 'input.txt'\n",
        "domain = 'passivebook.com'\n",
        "affiliate_link = 'passivebook.com/go'"
      ],
      "metadata": {
        "id": "72-LuirPqZoD"
      },
      "execution_count": 16,
      "outputs": []
    },
    {
      "cell_type": "code",
      "source": [
        "html_doc = \"\"\"\n",
        "<!-- wp:paragraph -->\n",
        "<p><a class=\"test\" href=\"https://passivebook.com/go/trello\"> Affiliate Link</a></p>\n",
        "<!-- /wp:paragraph -->\n",
        "\n",
        "<!-- wp:paragraph -->\n",
        "<p><a href=\"https://passivebook.com/calculators/blog-earning-calculator/\" class=\"test\">Internal Link </a></p>\n",
        "<!-- /wp:paragraph -->\n",
        "\n",
        "<!-- wp:paragraph -->\n",
        "<p><a href=\"https://google.com\" rel=\"nofollow\">External Link</a></p>\n",
        "<!-- /wp:paragraph -->\n",
        "\"\"\"\n",
        "\n",
        "soup = BeautifulSoup(html_doc, 'html.parser')"
      ],
      "metadata": {
        "id": "LCSVWRCCCNmx"
      },
      "execution_count": 17,
      "outputs": []
    },
    {
      "cell_type": "code",
      "source": [
        "f = open(filename)\n",
        "content = f.read()\n",
        "#parse HTML\n",
        "soup = BeautifulSoup(content, 'html.parser')"
      ],
      "metadata": {
        "id": "o06x2urqyqnl"
      },
      "execution_count": null,
      "outputs": []
    },
    {
      "cell_type": "code",
      "source": [
        "# Operations on All Links\n",
        "for link in soup.find_all('a'):\n",
        "    # Set All Links to Open in New Tab\n",
        "    link['target'] = '_blank'\n",
        "    # Remove Leading and Trailiing White Spaces\n",
        "    link.string = link.string.strip()\n",
        "\n",
        "# Internal Links (Includes Affiliate Links)\n",
        "for link in soup.find_all('a', href=re.compile(domain)):\n",
        "    url = link['href']\n",
        "    if url[len(url)-1] != \"/\":\n",
        "        link['href'] = url + \"/\"\n",
        "\n",
        "# Affiliate Links\n",
        "for link in soup.find_all('a', href=re.compile(affiliate_link)):\n",
        "    link['rel'] = 'nofollow'\n",
        "\n",
        "# External Links\n",
        "#for link in soup.find_all('a', href=re.compile(\".*?:\\\\/\\\\/(?!\"+domain+\").*?\")):\n",
        "#    link['rel'] = link['rel'].remove('nofollow')\n",
        "#    link['rel'] = 'nofollow'\n",
        "\n",
        "# print(soup)"
      ],
      "metadata": {
        "id": "bIVt0dKkn3_M"
      },
      "execution_count": 19,
      "outputs": []
    },
    {
      "cell_type": "code",
      "source": [
        "with open(\"output.txt\", \"w\", encoding='utf-8') as file:\n",
        "    file.write(str(soup))"
      ],
      "metadata": {
        "id": "5EFMAH6qzoSr"
      },
      "execution_count": null,
      "outputs": []
    }
  ]
}