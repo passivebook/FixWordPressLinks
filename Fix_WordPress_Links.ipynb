{
  "nbformat": 4,
  "nbformat_minor": 0,
  "metadata": {
    "colab": {
      "provenance": [],
      "toc_visible": true,
      "include_colab_link": true
    },
    "kernelspec": {
      "name": "python3",
      "display_name": "Python 3"
    },
    "language_info": {
      "name": "python"
    }
  },
  "cells": [
    {
      "cell_type": "markdown",
      "metadata": {
        "id": "view-in-github",
        "colab_type": "text"
      },
      "source": [
        "<a href=\"https://colab.research.google.com/github/passivebook/FixWordPressLinks/blob/main/Fix_WordPress_Links.ipynb\" target=\"_parent\"><img src=\"https://colab.research.google.com/assets/colab-badge.svg\" alt=\"Open In Colab\"/></a>"
      ]
    },
    {
      "cell_type": "markdown",
      "source": [
        "https://drive.google.com/drive/folders/1T5JJmlDwdaEkAAbpH2VOn-TCeAuW8OKl"
      ],
      "metadata": {
        "id": "7D4qZJPTRxwO"
      }
    },
    {
      "cell_type": "markdown",
      "source": [
        "# Setup"
      ],
      "metadata": {
        "id": "YYyG5dT7wdjo"
      }
    },
    {
      "cell_type": "code",
      "execution_count": 1,
      "metadata": {
        "colab": {
          "base_uri": "https://localhost:8080/"
        },
        "id": "zfpNZSrykqTe",
        "outputId": "a66b77bd-7157-4338-b3ff-8813943065bb"
      },
      "outputs": [
        {
          "output_type": "stream",
          "name": "stdout",
          "text": [
            "Mounted at /content/gdrive\n"
          ]
        }
      ],
      "source": [
        "import os\n",
        "import pandas as pd\n",
        "import re\n",
        "from bs4 import BeautifulSoup\n",
        "from bs4 import element as bs4_element\n",
        "from google.colab import drive\n",
        "import csv\n",
        "drive.mount(\"/content/gdrive\")"
      ]
    },
    {
      "cell_type": "markdown",
      "source": [
        "## Set Google Drive Working Directory"
      ],
      "metadata": {
        "id": "fgoWhM2VEuVp"
      }
    },
    {
      "cell_type": "markdown",
      "source": [
        "Put the path to the google drive folder after `/content/gdrive/My Drive/`\n",
        "\n"
      ],
      "metadata": {
        "id": "XqzPbBhE1Yec"
      }
    },
    {
      "cell_type": "code",
      "source": [
        "os.chdir(\"/content/gdrive/My Drive/Colab Notebooks/Fix WordPress Links\")"
      ],
      "metadata": {
        "id": "iWRPpN-YlD-U"
      },
      "execution_count": 2,
      "outputs": []
    },
    {
      "cell_type": "markdown",
      "source": [
        "## Upload the input.txt file to Google Drive \n",
        "1. Create a `input.txt` file and paste the WordPress Post Code in it. \n",
        "2. Upload the input.txt file to path setup above. "
      ],
      "metadata": {
        "id": "TiIOl2Lq1yAJ"
      }
    },
    {
      "cell_type": "markdown",
      "source": [
        "## Check files\n"
      ],
      "metadata": {
        "id": "RuzMxUGf2VwX"
      }
    },
    {
      "cell_type": "markdown",
      "source": [
        "Check if files `input.txt` and `affiliate_links.csv` exists in Drive by running the code below. If you don't find the files, set the Google Drive working directory in the previous step. "
      ],
      "metadata": {
        "id": "ZHXvGukfwIhV"
      }
    },
    {
      "cell_type": "code",
      "source": [
        "! ls"
      ],
      "metadata": {
        "colab": {
          "base_uri": "https://localhost:8080/"
        },
        "id": "TdYhA7V7lN7T",
        "outputId": "dea8f77b-63b8-4abf-d53b-9e2535e1f955"
      },
      "execution_count": 3,
      "outputs": [
        {
          "output_type": "stream",
          "name": "stdout",
          "text": [
            " affiliate_links.csv  'Fix WordPress Links.ipynb'   input.txt   output.txt\n"
          ]
        }
      ]
    },
    {
      "cell_type": "markdown",
      "source": [
        "## Code Settings"
      ],
      "metadata": {
        "id": "DQa_bn7r2kgn"
      }
    },
    {
      "cell_type": "code",
      "source": [
        "filename = 'input.txt'\n",
        "domain = 'passivebook.com'\n",
        "affiliate_link = 'passivebook.com/go'"
      ],
      "metadata": {
        "id": "72-LuirPqZoD"
      },
      "execution_count": 4,
      "outputs": []
    },
    {
      "cell_type": "markdown",
      "source": [
        "## Read the file"
      ],
      "metadata": {
        "id": "WGOWjmpWEGuB"
      }
    },
    {
      "cell_type": "code",
      "source": [
        "f = open(filename)\n",
        "content = f.read()\n",
        "#parse HTML\n",
        "soup = BeautifulSoup(content, 'html.parser')\n",
        "# Remove output.txt\n",
        "try:\n",
        "    os.remove('output.txt')\n",
        "except OSError:\n",
        "    pass"
      ],
      "metadata": {
        "id": "HH_rDgpsEHW0"
      },
      "execution_count": 5,
      "outputs": []
    },
    {
      "cell_type": "markdown",
      "source": [
        "# Add Affiliate Links"
      ],
      "metadata": {
        "id": "I5waADIeA_8D"
      }
    },
    {
      "cell_type": "code",
      "source": [
        "html_doc = \"\"\"\n",
        "<!-- wp:paragraph -->\n",
        "<p>This is a existing link <a class=\"test\" href=\"https://yahoo.com/\">Yahoo</a> Text</p>\n",
        "<!-- /wp:paragraph -->\n",
        "\n",
        "<!-- wp:paragraph -->\n",
        "<p>This is another Google Text</p>\n",
        "<!-- /wp:paragraph -->\n",
        "\n",
        "<!-- wp:paragraph -->\n",
        "<p>This is another lowercase bing Text</p>\n",
        "<!-- /wp:paragraph -->\n",
        "\n",
        "<!-- wp:paragraph -->\n",
        "<p>This is another multi word Active Campaign.</p>\n",
        "<!-- /wp:paragraph -->\n",
        "\n",
        "<!-- wp:paragraph -->\n",
        "<p>This is another multi word Bunny CDN Text.</p>\n",
        "<!-- /wp:paragraph -->\n",
        "\n",
        "\n",
        "<!-- wp:paragraph -->\n",
        "<p>This is another multi word Bunny Text</p>\n",
        "<!-- /wp:paragraph -->\n",
        "\"\"\"\n",
        "\n",
        "# Uncomment for Testing\n",
        "soup = BeautifulSoup(html_doc, 'html.parser')\n",
        "\n",
        "\n",
        "# Read & Sort the CSV File\n",
        "hyperlinks = pd.read_csv('affiliate_links.csv', engine='python')\n",
        "hyperlinks['anchor_length'] = hyperlinks['anchor_to_link'].str.len()\n",
        "hyperlinks = hyperlinks.sort_values(['link_to_be_added', 'anchor_length'], ascending=[False,False]) \n",
        "del hyperlinks['anchor_length']\n",
        "hyperlinks = dict(hyperlinks.values)\n",
        "\n",
        "\n",
        "# read the CSV file with anchor text and hyperlinks\n",
        "# with open('affiliate_links.csv', 'r') as csv_file:\n",
        "#   reader = csv.reader(csv_file)\n",
        "#   hyperlinks = dict(reader)\n",
        "\n",
        "\n",
        "# from bs4 import element as bs4_element\n",
        "be_navStr = bs4_element.NavigableString\n",
        " \n",
        "hList = [\n",
        "    (anchor_text.strip(), hyperlink.strip()) for\n",
        "    anchor_text, hyperlink in hyperlinks.items()\n",
        "    if anchor_text.strip() and hyperlink.strip() # no blanks\n",
        "]\n",
        " \n",
        " \n",
        "for txt, link in hList:\n",
        "    navStrs = [\n",
        "        d for d in soup.descendants if type(d) == be_navStr \n",
        "        # and f' {txt.lower()} ' in f' {d.string.strip().lower()} ' # same as\n",
        "        # and f' {txt.lower()} ' in f' {d.string.strip().lower()} ' # same as\n",
        "        # and (' '+txt.lower()+' ') in (' '+d.string.strip().lower()+' ')\n",
        "        and (' '+txt.lower()+' ') in (' '+re.sub('\\W+',' ',d.string.strip().lower())+' ')\n",
        "    ]\n",
        "\n",
        "\n",
        "    \n",
        "\n",
        "    for ns in navStrs: \n",
        "        # tLen, remStr = len(txt), f' {ns.get_text().strip()} '\n",
        "        tLen, remStr = len(txt), f'{ns.string.strip()}'\n",
        "        # tLen, remStr = len(txt), f' {ns.text.strip()} '\n",
        "\n",
        "        if remStr[1:-1].lower() == txt.lower():\n",
        "            # to skip if it's already a hyperlink\n",
        "            if ns.parent.name == 'a': \n",
        "                ns.parent['href'] = link # comment if you dont want to replace/update link\n",
        "                continue \n",
        "        # Skip creating nested hyperlinks inside existing hyperlinks       \n",
        "        if ns.parent.name == 'a': \n",
        "          continue \n",
        "\n",
        "        \n",
        "        \n",
        "        while f' {txt.lower()} ' in re.sub('\\W+',' ',remStr.lower()):\n",
        "            \n",
        "            sInd = re.sub('\\W+',' ',remStr.lower()).find(f' {txt.lower()} ') + 1\n",
        " \n",
        "            hlTag = soup.new_tag('a', href=link)\n",
        "            hlTag.append(remStr[sInd:sInd + tLen])\n",
        "\n",
        "            newCont = [remStr[:sInd].lstrip(), hlTag]\n",
        "            \n",
        "            for addn in newCont: ns.insert_before(addn)\n",
        "\n",
        "            remStr = remStr[sInd + tLen:]\n",
        "\n",
        "        ns.replace_with(remStr)\n",
        "\n",
        "# Uncomment for Testing \n",
        "print(soup)"
      ],
      "metadata": {
        "id": "-EuV1miebDxz",
        "colab": {
          "base_uri": "https://localhost:8080/"
        },
        "outputId": "b342d250-9b6d-49d2-c591-b7437976854c"
      },
      "execution_count": 83,
      "outputs": [
        {
          "output_type": "stream",
          "name": "stdout",
          "text": [
            "\n",
            "<!-- wp:paragraph -->\n",
            "<p>This is a existing link <a class=\"test\" href=\"https://yahoo.com/\">Yahoo</a> Text</p>\n",
            "<!-- /wp:paragraph -->\n",
            "<!-- wp:paragraph -->\n",
            "<p>This is another Google Text</p>\n",
            "<!-- /wp:paragraph -->\n",
            "<!-- wp:paragraph -->\n",
            "<p>This is another lowercase bing Text</p>\n",
            "<!-- /wp:paragraph -->\n",
            "<!-- wp:paragraph -->\n",
            "<p>This is another multi word <a href=\"https://passivebook.com/go/activecampaign/\">Active Campaign</a>.</p>\n",
            "<!-- /wp:paragraph -->\n",
            "<!-- wp:paragraph -->\n",
            "<p>This is another multi word <a href=\"https://passivebook.com/go/bunnycdn/\">Bunny CDN</a> Text.</p>\n",
            "<!-- /wp:paragraph -->\n",
            "<!-- wp:paragraph -->\n",
            "<p>This is another multi word <a href=\"https://passivebook.com/go/bunny/\">Bunny</a> Text</p>\n",
            "<!-- /wp:paragraph -->\n",
            "\n"
          ]
        }
      ]
    },
    {
      "cell_type": "markdown",
      "source": [
        "# Fix Links"
      ],
      "metadata": {
        "id": "mrbaXGJJxcTv"
      }
    },
    {
      "cell_type": "code",
      "source": [
        "html_doc = \"\"\"\n",
        "<!-- wp:heading -->\n",
        "<h2>This is a & Heading 2</h2>\n",
        "<!-- /wp:heading -->\n",
        "\n",
        "\n",
        "<!-- wp:heading -->\n",
        "<h3>This is a Heading 3?</h3>\n",
        "<!-- /wp:heading -->\n",
        "\n",
        "\n",
        "<!-- wp:paragraph -->\n",
        "<p><a class=\"test\" href=\"https://passivebook.com/go/trello\"> Affiliate Link</a></p>\n",
        "<!-- /wp:paragraph -->\n",
        "\n",
        "<!-- wp:paragraph -->\n",
        "<p><a href=\"https://passivebook.com/calculators/blog-earning-calculator/\" class=\"test\">Internal Link </a></p>\n",
        "<!-- /wp:paragraph -->\n",
        "\n",
        "<!-- wp:paragraph -->\n",
        "<p><a href=\"https://google.com\">External Link</a></p>\n",
        "<!-- /wp:paragraph -->\n",
        "\n",
        "<!-- wp:paragraph -->\n",
        "<p><a href=\"#jumplink\">Jump Link</a></p>\n",
        "<!-- /wp:paragraph -->\n",
        "\n",
        "<!-- wp:paragraph -->\n",
        "<p><a href=\"https://passivebook.com/go/TRELLO.md\">Markdown</a></p>\n",
        "<!-- /wp:paragraph -->\n",
        "\n",
        "\n",
        "<!-- wp:paragraph -->\n",
        "<p><a href=\"/go/Rank Math%20Pro\">Link with space</a></p>\n",
        "<!-- /wp:paragraph -->\n",
        "\n",
        "<!-- wp:paragraph -->\n",
        "<p>This is a Google Text</p>\n",
        "<!-- /wp:paragraph -->\n",
        "\"\"\"\n",
        "\n",
        "# Uncomment for Testing\n",
        "#soup = BeautifulSoup(html_doc, 'html.parser')"
      ],
      "metadata": {
        "id": "LCSVWRCCCNmx"
      },
      "execution_count": 7,
      "outputs": []
    },
    {
      "cell_type": "code",
      "source": [
        "# Operations on All Links\n",
        "for link in soup.find_all('a'):\n",
        "    # Remove .md Obsidian Markdown from links\n",
        "    link['href'] = link['href'].replace(\".md\", \"\")\n",
        "    link['href'] = link['href'].replace(\"app://obsidian\", \"\")\n",
        "    # Check if link is not an anchor link\n",
        "    if \"#\" not in link['href']:\n",
        "      # Set All Links to Open in New Tab\n",
        "      link['target'] = '_blank'\n",
        "      # Remove Leading and Trailiing White Spaces\n",
        "      link.string = link.string.strip()\n",
        "    # Add Domain to Internal Links\n",
        "    if str(link['href'][0:1]) == \"/\":\n",
        "      link['href'] = \"https://\" + domain + link['href'] \n",
        "\n",
        "# Internal Links\n",
        "for link in soup.find_all('a', href=re.compile(domain)):\n",
        "    # Convert all internal links to lower case\n",
        "    link['href'] = link['href'].lower()        \n",
        "    url = link['href']\n",
        "    # Add Trailing / to all links\n",
        "    if url[len(url)-1] != \"/\" and \"#\" not in link['href']:\n",
        "        link['href'] = url + \"/\"\n",
        "    # Replace space in internal links with -    \n",
        "    link['href'] = link['href'].replace(\" \", \"-\") \n",
        "    link['href'] = link['href'].replace(\"%20\", \"-\")   \n",
        "\n",
        "# Affiliate Links\n",
        "for link in soup.find_all('a', href=re.compile(affiliate_link)):\n",
        "    # Make Affiliate Links No Follow\n",
        "    link['rel'] = 'nofollow'\n",
        "\n",
        "# External Links\n",
        "#for link in soup.find_all('a', href=re.compile(\".*?:\\\\/\\\\/(?!\"+domain+\").*?\")):\n",
        "    #link['rel'] = link['rel'].remove('nofollow')\n",
        "    #link['rel'] = 'nofollow'\n",
        "\n",
        "# Uncomment for Testing\n",
        "# print(soup)"
      ],
      "metadata": {
        "id": "bIVt0dKkn3_M"
      },
      "execution_count": 8,
      "outputs": []
    },
    {
      "cell_type": "markdown",
      "source": [
        "# Add ID to Headings (h2 & h3)"
      ],
      "metadata": {
        "id": "U-ZO81xT9PJJ"
      }
    },
    {
      "cell_type": "code",
      "source": [
        "# Add ID Tag to Headings: removes spaces, special characters and converts to lower case.\n",
        "for heading in soup.find_all('h2'): heading['id'] = ''.join(e for e in heading.string if e.isalnum()).lower().replace(\" \", \"\")\n",
        "#for heading in soup.find_all('h3'): heading['id'] = ''.join(e for e in heading.string if e.isalnum()).lower().replace(\" \", \"\")\n",
        "#print(soup)"
      ],
      "metadata": {
        "id": "SHdClw-X51cc"
      },
      "execution_count": 9,
      "outputs": []
    },
    {
      "cell_type": "markdown",
      "source": [
        "# Output File"
      ],
      "metadata": {
        "id": "G5hRqnNl9TTT"
      }
    },
    {
      "cell_type": "code",
      "source": [
        "with open(\"output.txt\", \"w\", encoding='utf-8') as file:\n",
        "    file.write(str(soup))"
      ],
      "metadata": {
        "id": "5EFMAH6qzoSr"
      },
      "execution_count": 10,
      "outputs": []
    }
  ]
}